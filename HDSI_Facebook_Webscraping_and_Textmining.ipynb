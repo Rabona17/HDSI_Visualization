{
 "cells": [
  {
   "cell_type": "code",
   "execution_count": 20,
   "metadata": {},
   "outputs": [],
   "source": [
    "'''This program cannot run on jupyterhub as it doen't have Chrome. Also, in order to run it succefully on local,\n",
    "several setting should be done on chrome, but I forgot how I did that :('''\n",
    "from selenium import webdriver \n",
    "from selenium.webdriver.support.ui import Select\n",
    "import time\n",
    "import datetime\n",
    "import numpy as np\n",
    "from datascience import *\n",
    "from bs4 import BeautifulSoup\n",
    "import re\n",
    "import requests,json"
   ]
  },
  {
   "cell_type": "code",
   "execution_count": 21,
   "metadata": {},
   "outputs": [],
   "source": [
    "driver = webdriver.Chrome()\n",
    "driver.get('https://www.facebook.com/pg/HDSI.UCSanDiego/posts/')\n",
    "SCROLL_PAUSE_TIME = 0.5\n",
    "\n",
    "# Get scroll height\n",
    "last_height = driver.execute_script(\"return document.body.scrollHeight\")\n",
    "\n",
    "while True:\n",
    "    # Scroll down to bottom\n",
    "    driver.execute_script(\"window.scrollTo(0, document.body.scrollHeight);\")\n",
    "\n",
    "    # Wait to load page\n",
    "    time.sleep(SCROLL_PAUSE_TIME)\n",
    "\n",
    "    # Calculate new scroll height and compare with last scroll height\n",
    "    new_height = driver.execute_script(\"return document.body.scrollHeight\")\n",
    "    if new_height == last_height:\n",
    "        break\n",
    "    last_height = new_height\n",
    "\n",
    "html=driver.page_source"
   ]
  },
  {
   "cell_type": "code",
   "execution_count": 22,
   "metadata": {},
   "outputs": [],
   "source": [
    "soup = BeautifulSoup(html, 'lxml')\n",
    "p = soup.select('div[class*=\"_5pbx userContent _3576\"]')\n",
    "soup2 = BeautifulSoup(str(p), 'lxml')\n",
    "p2 = soup2.findAll('p')"
   ]
  },
  {
   "cell_type": "code",
   "execution_count": 23,
   "metadata": {},
   "outputs": [
    {
     "data": {
      "text/plain": [
       "array(['Congratulations to Rajesh Gupta, HDSI director and co-founder, who was named today as a Fellow by AAAS The nation’s largest general science organization honored the UCSD Distinguished Professor in Computer Science and Engineering for “distinguished contributions in design of embedded systems and hardware-software co-design, and leadership in research administration” ',\n",
       "       'The secret to startup success will be the topic Nov 28 at Meet the Boss: Startups event 6-8 pm at The Loft Alumni panelists: Taner Halıcıoğlu, of Keshif Ventures, a UC San Diego instructor and the force behind the Halıcıoğlu Data Science Institute; Julie Wartell, who teaches GIS in Urban Studies and works as an independent advisor on public safety issues; and Ping Yeh, who has led teams from startups to Fortune 100 corporations to produce products merging core intellectual property Hosted by Student Alumni Associates Free refreshments Tickets limited | ',\n",
       "       'HDSI is proud to sponsor a 3-day joint symposium with the National Oceanic and Atmospheric Administration (NOAA) on \"Next Generation Empirical Dynamic Tools for Understanding and Predicting Fisheries and Ecosystems\"   - More than 50 researchers gathered in Santa Cruz this week to advance how modeling works as an alternative, data-driven approach Professor George Sugihara of the Scripps Institution of Oceanography was a leader of the event, and discussed his groundbreaking work on empirical dynamic modeling, and its real-world applications and successes  - Current models used to manage US fish stocks are based on classical population growth equations that are applied deductively but are poorly predictive in real world fishery settings UC San Diego PhD candidate Alfredo Giron-Nava presents his research on drivers of pacific sardine\\'s population dynamics in the Gulf of California',\n",
       "       'Halicioglu Data Science Institute Distinguished Lecturer Series: Dr Dani Bassett (UPenn) “Probing the Growth and Form of Human Thought”',\n",
       "       'Brad Voytek, Professor, Cognitive Science, named as one of of two Halıcıoğlu Data Science Institute (HDSI) Fellows',\n",
       "       ' ',\n",
       "       'Ilkay Altintas, Chief Data Science Officer at the San Diego Supercomputer Center named as one of of two Halıcıoğlu Data Science Institute (HDSI) Fellows ',\n",
       "       ' ',\n",
       "       'HDSI Distinguished Lecture by Scott Chacon, GitHub cofounder',\n",
       "       ' The keys to success, advises entrepreneur Scott Chacon, are passion and failure Chacon spoke to hundreds of data science students and the campus community on Oct 11 as part of the Institute’s Distinguished Lecturer Series More than 800 students and university community members attended and tuned in to the livestream to hear Chacon talk about the importance of his roots starting as a theater major at UC San Diego was following his passion and getting out of his comfort zone, he said, “You learn to put yourself out there and fail miserably, and you learn to keep going” Chacon cofounded the tech company GitHub and grew it to 450 employees in less than 10 years, eventually being acquired by Microsoft for $75 billion His newest passion project is Chatterbug, an online language learning school he cofounded that connects students to native-speaking tutors See the full HDSI Distinguished Lecture:   ',\n",
       "       ' Chacon, Class of ‘02, cofounded the web-based development platform GitHub that boasts 28 million users and is now the largest host of source code in the world He is also the author of Pro Git, published by Apress and found online at ',\n",
       "       'Keith Muller from Teradata joins the Halicioglu Data Science Institute as the first HDSI Industry Fellow!',\n",
       "       ' We put him to work right away - lecturing to Data Science Master’s students  Real data science applications - professional basketball, shipping containers, retail',\n",
       "       'Data Science Master’s Alum - John Gill, Teradata speaks to undergrads @ UCSD',\n",
       "       'Nov 7, 2018, 1-2 pm: A data science expert from Google will be at UC San Diego to give a talk entitled, Surveys and Big Data for Estimating Brand Lift The seminar featuring Tim Hesterberg, senior statistician from Google, is sponsored by The Division of Biostatistics and Bioinformatics in the Department of Family Medicine and Public Health The event will be held at the School of Medicine campus, in the MET (Medical Education and Telemedicine Building), Lower Auditorium',\n",
       "       ' Before his career at Google, Hesterberg worked in academia and the software and utilities industries He earned his PhD in statistics from Stanford University, and wrote Mathematical Statistics with Resampling and R; as well as co-authoring the ASA Guidelines for Undergraduate Statistics Programs Now, as he likes to say, he can tell people how to analyze data!',\n",
       "       ' Google Brand Lift Surveys estimates the effect of display advertising using surveys Challenges include imperfect A/B experiments, response and solicitation bias, discrepancy between intended and actual treatment, comparing treatment group users who took an action with control users who might have acted, and estimation for different slices of the population We approach these issues using a combination of individual-study analysis and meta-analysis across thousands of studies This work involves a combination of small and large data survey responses and logs data, respectively Learn more at ',\n",
       "       'Teradata - Tech Talk',\n",
       "       ' October 25, 2018 5:00 - 7:00 pm Qualcomm Conference Center - Jacobs Hall',\n",
       "       ' Speaker: John Gill, Engineering Manager',\n",
       "       ' Now Hiring for Summer Internships and Full time positions!',\n",
       "       ' Join us for pizza! Meet engineers from several different departments for great networking',\n",
       "       'Should scientists try to influence policy?  Should policymakers and elected officials be required to share their science platform during their campaigns?',\n",
       "       ' UC San Diego: School of Global Policy & Strategy invite you to a Science Policy Roundtable Event ',\n",
       "       'SoCal DB Day (10/19/18) hosted at UC San Diego by the Computer Science and Engineering Department along with support from the San Diego Supercomputer Center and the Halicioglu Data Science Institute  ',\n",
       "       '',\n",
       "       'Memorial for HDSI co-founder A memorial was held Oct 4 for Jeffrey Elman, HDSI co-founder and Distinguished Professor of Cognitive Science at UC San Diego Elman died in late June at age 70 ',\n",
       "       ' More than 150 people from the university and the community gathered to hear memories of his legacy, creativity and personal warmth  \"Jeff will always be remembered as a visionary and a truly inspirational person,\" said UC San Diego Chancellor Pradeep Khosla ',\n",
       "       ' ', 'Meet our first visiting scholar: Mani Srivastava from UCLA',\n",
       "       \"Data Science and Engineering (DSE) Master's students enjoying a break between classes!  Pondering topics from DSE 203: schema mapping and matching, entity disambiguation, ontology development and management, data provenance\",\n",
       "       'HDSI Distinguished Lecturer Series - Scott Chacon - Co-founder Github and Founder Of Chatterbug!',\n",
       "       'Lyft Recruiting Event @ UC San Diego nearly 200 undergrads here!',\n",
       "       'Wanted: Students to take a free trip to Int’l HPC conference in India ',\n",
       "       ' Get a free ride to an international conference focusing on the global future of high-performance computing A limited number of travel awards to the Delhi-based conference Dec 13-14 are available to students in the UC San Diego Data Science Computing and Computer Science & Engineering programs  This will be the Second Workshop on Software Challenges to Exascale Computing (SCEC18) in India <>',\n",
       "       ' The travel award, available to both graduate and undergraduate students, covers full travel cost, hotel, and registration Organizers say this is not just for students specializing in exascale or direct HPC – the workshop will be geared to all students in the related fields Note: There may be visa requirements Award application form for US-based students <>',\n",
       "       ' Organizers say their focus will be in building international collaborations for finding solutions to HPC challenges, by bringing vendors, developers, researchers and students together to influence the architecture of the next generation supercomputing systems and the supporting software stack',\n",
       "       'UC Health Hack ', ' 10/6 Sat - 10/7 Sun',\n",
       "       ' Stop by the new Medical Education and Telemedicine Building at UC San Diego for final presentations @ 12:30 Sunday!!',\n",
       "       'Welcome to HDSI, Martina Hansen!',\n",
       "       'Halıcıoğlu Data Science Institute - Undergraduate Fellowships ',\n",
       "       'SDSC Chief Data Science Officer - Ilkay Altintas - The New Era of Data Science @ SDSC Technology Forum',\n",
       "       'The Anatomy of Sales Decisions: Blending Data Science and Behavioral Science to Accelerate Sales Results',\n",
       "       'How Data Science at Netflix Turned Hollywood on its Head',\n",
       "       'HDSI welcomes Professor Mani Srivastava of UCLA as our first Visiting Scholar in residence as we ramp up our research initiatives on Sensor Data and IOT Security and Privacy',\n",
       "       'Ryan Chesler will present his work on the Kaggle Toxic Comment Classification competition, where he placed 3rd out of 4551 This will be followed by a discussion and networking session',\n",
       "       \" Abstraction: Identifying toxic comments online is a key capability for facilitating productive discourse Kaggle recently hosted a Toxic Comment Classification Challenge competition with the objective of identifying types of toxic comments, such as threats, obscenity, insults, and identity-based hate In this presentation, Ryan Chesler will give an overview of his work on this project, where he ultimately placed 3rd out of 4551 Ryan will start by covering some basics of how words are embedded as numbers, including Word2Vec using Gensim and the sklearn packages CountVectorizer and TfidfVectorizer Thereafter, he'll move to more advanced topics and discuss the models he used for the Toxic Comment challenge--what worked and what didn’t work This talk will have content for both beginners and more advanced people, and code snippets and visualization will be available for download To learn more and register, visit \",\n",
       "       'Zack on AI, from UCSD to saving the field from its own hype!',\n",
       "       'Science writer Lisa Petrillo joins the Halicioğlu Data Science Institute as its first Communications/Media Specialist, to spotlight the pioneering cross-discipline work here at UC San Diego’s new hub for decoding the world',\n",
       "       ' Lisa is an award-winning news reporter who ran communications and media for major organizations, including the National Ignition Facility at Lawrence Livermore Laboratory, General Atomics-Energy Group, San Diego Unified School District and Rady Children’s Hospital Among her professional service includes serving as an elected trustee of San Diego Press Club, and as a member of the National Association of Science Writers and San Diego Professional Journalists Association She is a former competitive ice skater, and author of more than 10 nonfiction books, including the first nonpartisan young adult biography on politician Sarah Palin, and a mass-market true crime book',\n",
       "       'Making it easier to discover datasets',\n",
       "       'What Data Scientists Really Do, According to 35 Data Scientists',\n",
       "       'The NSF 2026 Idea Machine!',\n",
       "       'DS Majors hard at work at data fest!',\n",
       "       'EdX will be offering a MOOC of Professor Yoav Freund’s big data analytics and Spark class on September 3rd Click the link to learn more!',\n",
       "       'Whether you live in Washington, DC or Washington State, issues of data integrity, privacy, automation, and regulation are now a part of everyday life Join UC San Diego to look deeper into today’s data science studies, research, and real world projects that are informing tomorrow’s practices and innovations ',\n",
       "       ' Our conversation partners will give you a look beneath the surface of perplexing questions, ethical conundrums, and potential outcomes to help you be more informed about data science and the issues relevant to you ',\n",
       "       ' You’ll also learn how UC San Diego’s new Halicioğlu Data Science Institute and the undergraduate Data Science Major are educating the next generation of data scientists in critical and practical skills and ethics Learn more and sign up at: ',\n",
       "       'Harnessing Data Science to Solve Apparent Loss',\n",
       "       'Engineers for Exploration Summer Review CSE 1242 Thursday Aug 23, 3-4pm',\n",
       "       ' Engineers for Exploration (E4E) program provides a unique experience where students work closely with scientists, explorers, and engineers to create technologies that aid in understanding broad scientific research questions centered around conservation, cultural heritage, and exploration This summer ~15 undergraduates from around the country have been working on projects like the SmartFin (a small \"surfboard buoy), aerial monitoring of mangrove ecosystems, portable and low cost 3D scanning for archaeological sites, a high-performance FPGA drone, an aerial lidar platform for seeing through the jungle, and the Reefer (a device that helps create 3d model of coral reefs)',\n",
       "       ' Please join us to hear the students present the results of what they have accomplished over the summer There will be about 1 hour of presentations in 1242 then we will move to CSE 2127 (SeaLab) for technology demonstrations and some snacks We would appreciate if you could fill out a very short poll to let us know you are coming so that we can better plan for the event: ',\n",
       "       'Build Alexa skills that has a positive impact on the environment, your local community and the world',\n",
       "       ' Prizes: Participants who submit an eligible certified skill will receive a participation prize, up to 10 finalists will win $5,000 and promotion in the Alexa Skills Store, one grand prize winner will receive $10,000 and the ability to direct a $20,000 donation prize to a charity - university students are even eligible for a bonus prize!  There is up to $122,000 in cash and prizes',\n",
       "       ' Deadline: September 17, 2018', ' Learn more and register at ',\n",
       "       'Build applications that contribute to the work of nonprofit organizations and the developer community using the AWS SAM  There will be bonus prizes for the best solution to combat human trafficking',\n",
       "       ' Prizes: Up to $22,000 in cash and directed donations to a nonprofit partner',\n",
       "       ' Deadline: October 2, 2018', ' Learn more and register at '],\n",
       "      dtype='<U920')"
      ]
     },
     "execution_count": 23,
     "metadata": {},
     "output_type": "execute_result"
    }
   ],
   "source": [
    "soup3 = BeautifulSoup(str(p2), 'lxml')\n",
    "[s.extract() for s in soup3('a')]\n",
    "#[s.extract() for s in soup3('span')]\n",
    "array = make_array()\n",
    "for i in soup3.findAll('p'):\n",
    "    array = np.append(array,i.text.replace('<p>','').replace('</p>','').replace('<br>','').replace('</br>','').replace('.',''))\n",
    "for i in np.arange(len(array)):\n",
    "    if i == ' ':\n",
    "        array = array.remove(i)\n",
    "array[2:]\n",
    "posttable = Table().with_column('posts',array[2:])\n",
    "posttable.column(0)"
   ]
  },
  {
   "cell_type": "code",
   "execution_count": 9,
   "metadata": {},
   "outputs": [],
   "source": [
    "posttable.to_csv('posttable')"
   ]
  }
 ],
 "metadata": {
  "kernelspec": {
   "display_name": "Python 3",
   "language": "python",
   "name": "python3"
  },
  "language_info": {
   "codemirror_mode": {
    "name": "ipython",
    "version": 3
   },
   "file_extension": ".py",
   "mimetype": "text/x-python",
   "name": "python",
   "nbconvert_exporter": "python",
   "pygments_lexer": "ipython3",
   "version": "3.6.5"
  }
 },
 "nbformat": 4,
 "nbformat_minor": 2
}
